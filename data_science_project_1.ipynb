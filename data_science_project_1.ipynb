{
  "nbformat": 4,
  "nbformat_minor": 0,
  "metadata": {
    "colab": {
      "name": "data_science_project_1.ipynb",
      "provenance": [],
      "collapsed_sections": [],
      "authorship_tag": "ABX9TyOUeOboOfDN1K90KAQPivdD",
      "include_colab_link": true
    },
    "kernelspec": {
      "name": "python3",
      "display_name": "Python 3"
    },
    "language_info": {
      "name": "python"
    }
  },
  "cells": [
    {
      "cell_type": "markdown",
      "metadata": {
        "id": "view-in-github",
        "colab_type": "text"
      },
      "source": [
        "<a href=\"https://colab.research.google.com/github/shirart/data_science_proj_1/blob/main/data_science_project_1.ipynb\" target=\"_parent\"><img src=\"https://colab.research.google.com/assets/colab-badge.svg\" alt=\"Open In Colab\"/></a>"
      ]
    },
    {
      "cell_type": "code",
      "metadata": {
        "id": "Vebn9fUFx-Xm"
      },
      "source": [
        "import pandas as pd\n",
        "import numpy as np\n",
        "import seaborn as sns  #boxplot\n",
        "import matplotlib.pyplot as plt\n",
        "\n",
        "data = pd.read_csv('sample_data/train-data.csv')\n",
        "numeric_data = data.filter(items=['Year', 'Kilometers_Driven', 'Transmission', 'Mileage', 'Engine', 'Power', 'Seats', 'New_Price', 'Price'])\n",
        "\n",
        "filtered_data = numeric_data.drop(['New_Price'], axis=1) # axis 0 = row (x) axis, axis 1 = row (y) axis\n",
        "\n",
        "# remove units from data\n",
        "filtered_data['Mileage'] = filtered_data['Mileage'].str.strip('km/kgpl ')\n",
        "filtered_data['Engine'] = filtered_data['Engine'].str.strip('CC ')\n",
        "filtered_data['Power'] = filtered_data['Power'].str.strip('bhp ')\n",
        "\n",
        "filtered_data= filtered_data.replace(\"null\", np.nan)\n",
        "\n",
        "# removed high kilometers_driven values as it exceeded the standard range (over 1 milion)\n",
        "filtered_data['Kilometers_Driven']=filtered_data['Kilometers_Driven'].where(filtered_data['Kilometers_Driven']<1*10**6)\n",
        "\n",
        "filtered_data['Transmission'] = (filtered_data['Transmission'] == 'Manual')\n",
        "filtered_data = filtered_data.astype(float)\n"
      ],
      "execution_count": 13,
      "outputs": []
    },
    {
      "cell_type": "code",
      "metadata": {
        "id": "5qG_Ul0K50c3",
        "colab": {
          "base_uri": "https://localhost:8080/"
        },
        "outputId": "d0fa3f1f-0617-47fb-b8d8-4d5475efa33a"
      },
      "source": [
        "filtered_data.isnull().sum() * 100 / len(filtered_data)"
      ],
      "execution_count": 14,
      "outputs": [
        {
          "output_type": "execute_result",
          "data": {
            "text/plain": [
              "Year                 0.000000\n",
              "Kilometers_Driven    0.016614\n",
              "Transmission         0.000000\n",
              "Mileage              0.033228\n",
              "Engine               0.598106\n",
              "Power                2.375810\n",
              "Seats                0.697790\n",
              "Price                0.000000\n",
              "dtype: float64"
            ]
          },
          "metadata": {
            "tags": []
          },
          "execution_count": 14
        }
      ]
    },
    {
      "cell_type": "code",
      "metadata": {
        "id": "x7M2vWbsph_M",
        "colab": {
          "base_uri": "https://localhost:8080/",
          "height": 297
        },
        "outputId": "1fd75cc2-184b-4c77-d3ff-6692ce92fc6a"
      },
      "source": [
        "filtered_data.describe()"
      ],
      "execution_count": 15,
      "outputs": [
        {
          "output_type": "execute_result",
          "data": {
            "text/html": [
              "<div>\n",
              "<style scoped>\n",
              "    .dataframe tbody tr th:only-of-type {\n",
              "        vertical-align: middle;\n",
              "    }\n",
              "\n",
              "    .dataframe tbody tr th {\n",
              "        vertical-align: top;\n",
              "    }\n",
              "\n",
              "    .dataframe thead th {\n",
              "        text-align: right;\n",
              "    }\n",
              "</style>\n",
              "<table border=\"1\" class=\"dataframe\">\n",
              "  <thead>\n",
              "    <tr style=\"text-align: right;\">\n",
              "      <th></th>\n",
              "      <th>Year</th>\n",
              "      <th>Kilometers_Driven</th>\n",
              "      <th>Transmission</th>\n",
              "      <th>Mileage</th>\n",
              "      <th>Engine</th>\n",
              "      <th>Power</th>\n",
              "      <th>Seats</th>\n",
              "      <th>Price</th>\n",
              "    </tr>\n",
              "  </thead>\n",
              "  <tbody>\n",
              "    <tr>\n",
              "      <th>count</th>\n",
              "      <td>6019.000000</td>\n",
              "      <td>6018.000000</td>\n",
              "      <td>6019.000000</td>\n",
              "      <td>6017.000000</td>\n",
              "      <td>5983.000000</td>\n",
              "      <td>5876.000000</td>\n",
              "      <td>5977.000000</td>\n",
              "      <td>6019.000000</td>\n",
              "    </tr>\n",
              "    <tr>\n",
              "      <th>mean</th>\n",
              "      <td>2013.358199</td>\n",
              "      <td>57668.047690</td>\n",
              "      <td>0.714238</td>\n",
              "      <td>18.134961</td>\n",
              "      <td>1621.276450</td>\n",
              "      <td>113.253050</td>\n",
              "      <td>5.278735</td>\n",
              "      <td>9.479468</td>\n",
              "    </tr>\n",
              "    <tr>\n",
              "      <th>std</th>\n",
              "      <td>3.269742</td>\n",
              "      <td>37878.783175</td>\n",
              "      <td>0.451814</td>\n",
              "      <td>4.582289</td>\n",
              "      <td>601.355233</td>\n",
              "      <td>53.874957</td>\n",
              "      <td>0.808840</td>\n",
              "      <td>11.187917</td>\n",
              "    </tr>\n",
              "    <tr>\n",
              "      <th>min</th>\n",
              "      <td>1998.000000</td>\n",
              "      <td>171.000000</td>\n",
              "      <td>0.000000</td>\n",
              "      <td>0.000000</td>\n",
              "      <td>72.000000</td>\n",
              "      <td>34.200000</td>\n",
              "      <td>0.000000</td>\n",
              "      <td>0.440000</td>\n",
              "    </tr>\n",
              "    <tr>\n",
              "      <th>25%</th>\n",
              "      <td>2011.000000</td>\n",
              "      <td>34000.000000</td>\n",
              "      <td>0.000000</td>\n",
              "      <td>15.170000</td>\n",
              "      <td>1198.000000</td>\n",
              "      <td>75.000000</td>\n",
              "      <td>5.000000</td>\n",
              "      <td>3.500000</td>\n",
              "    </tr>\n",
              "    <tr>\n",
              "      <th>50%</th>\n",
              "      <td>2014.000000</td>\n",
              "      <td>53000.000000</td>\n",
              "      <td>1.000000</td>\n",
              "      <td>18.150000</td>\n",
              "      <td>1493.000000</td>\n",
              "      <td>97.700000</td>\n",
              "      <td>5.000000</td>\n",
              "      <td>5.640000</td>\n",
              "    </tr>\n",
              "    <tr>\n",
              "      <th>75%</th>\n",
              "      <td>2016.000000</td>\n",
              "      <td>73000.000000</td>\n",
              "      <td>1.000000</td>\n",
              "      <td>21.100000</td>\n",
              "      <td>1984.000000</td>\n",
              "      <td>138.100000</td>\n",
              "      <td>5.000000</td>\n",
              "      <td>9.950000</td>\n",
              "    </tr>\n",
              "    <tr>\n",
              "      <th>max</th>\n",
              "      <td>2019.000000</td>\n",
              "      <td>775000.000000</td>\n",
              "      <td>1.000000</td>\n",
              "      <td>33.540000</td>\n",
              "      <td>5998.000000</td>\n",
              "      <td>560.000000</td>\n",
              "      <td>10.000000</td>\n",
              "      <td>160.000000</td>\n",
              "    </tr>\n",
              "  </tbody>\n",
              "</table>\n",
              "</div>"
            ],
            "text/plain": [
              "              Year  Kilometers_Driven  ...        Seats        Price\n",
              "count  6019.000000        6018.000000  ...  5977.000000  6019.000000\n",
              "mean   2013.358199       57668.047690  ...     5.278735     9.479468\n",
              "std       3.269742       37878.783175  ...     0.808840    11.187917\n",
              "min    1998.000000         171.000000  ...     0.000000     0.440000\n",
              "25%    2011.000000       34000.000000  ...     5.000000     3.500000\n",
              "50%    2014.000000       53000.000000  ...     5.000000     5.640000\n",
              "75%    2016.000000       73000.000000  ...     5.000000     9.950000\n",
              "max    2019.000000      775000.000000  ...    10.000000   160.000000\n",
              "\n",
              "[8 rows x 8 columns]"
            ]
          },
          "metadata": {
            "tags": []
          },
          "execution_count": 15
        }
      ]
    },
    {
      "cell_type": "code",
      "metadata": {
        "id": "KeLbwffZHKjv"
      },
      "source": [
        "####################################################################################################################\n",
        "# graphic presentation for each feature\n",
        "####################################################################################################################\n",
        "\n",
        "items=['Year', 'Kilometers_Driven', 'Mileage', 'Engine', 'Power', 'Seats', 'Transmission','Price']\n",
        "fig, axes = plt.subplots(nrows=len(items), figsize=(15,40))\n",
        "ranges = [None, [filtered_data['Kilometers_Driven'].min(), filtered_data['Kilometers_Driven'].max()], None, [0,5000], None, [0, 9], None,[0,80]]\n",
        "for i in range(len(items)):\n",
        "  _ = axes[i].hist(filtered_data[items[i]], bins=50,range=ranges[i])\n",
        "  axes[i].set_title(items[i], fontsize=16)\n",
        "  \n",
        "plt.show()"
      ],
      "execution_count": null,
      "outputs": []
    },
    {
      "cell_type": "code",
      "metadata": {
        "id": "pChQuePCOt7r"
      },
      "source": [
        "items=['Year', 'Kilometers_Driven', 'Mileage', 'Engine', 'Power', 'Seats', 'Transmission']\n",
        "fig, axes = plt.subplots(nrows=len(items), figsize=(10,30))\n",
        "ranges = [None, [filtered_data['Kilometers_Driven'].min(), filtered_data['Kilometers_Driven'].max()], None, None, None, [0, 9], None,None]\n",
        "for i in range(len(items)):\n",
        "  filtered_data.iloc[:,:-1].boxplot(column=[items[i]], ax=axes[i], fontsize = 16)\n",
        "\n",
        "plt.show()"
      ],
      "execution_count": null,
      "outputs": []
    },
    {
      "cell_type": "code",
      "metadata": {
        "colab": {
          "base_uri": "https://localhost:8080/",
          "height": 351
        },
        "id": "FEQ7xI41wJDt",
        "outputId": "169cb62e-6cb5-4f03-cf7b-ca3a3e15011d"
      },
      "source": [
        "corr_matrix = filtered_data.corr()\n",
        "sns.heatmap(corr_matrix, annot=True)\n",
        "plt.show()"
      ],
      "execution_count": 18,
      "outputs": [
        {
          "output_type": "display_data",
          "data": {
            "image/png": "[encoded data removed]",
            "text/plain": [
              "<Figure size 432x288 with 2 Axes>"
            ]
          },
          "metadata": {
            "tags": [],
            "needs_background": "light"
          }
        }
      ]
    },
    {
      "cell_type": "code",
      "metadata": {
        "id": "eZ428zUcMI5N"
      },
      "source": [
        "from sklearn.model_selection import train_test_split\n",
        "from sklearn.model_selection import KFold\n",
        "from sklearn.model_selection import cross_val_score\n",
        "from sklearn.model_selection import LeaveOneOut\n",
        "from sklearn.tree import DecisionTreeRegressor, export_graphviz, plot_tree\n",
        "from sklearn.linear_model import Ridge\n",
        "from sklearn.impute import SimpleImputer\n",
        "from tqdm import tqdm\n",
        "from scipy import stats\n",
        "\n",
        "####################################################################################################################\n",
        "#preparing data:\n",
        "####################################################################################################################\n",
        "\n",
        "# filter out NaN values\n",
        "filtered_data = filtered_data.dropna()\n",
        "\n",
        "#fill nan's with SimpleImputer\n",
        "#imp=SimpleImputer(missing_values=np.nan, strategy='mean')\n",
        "#imp.fit(filtered_data.iloc[:,:-1])\n",
        "#data = pd.DataFrame(imp.transform(filtered_data.iloc[:,:-1]))\n",
        "\n",
        "#fill nan's regarding to correlation\n",
        "#engine_key=[]\n",
        "# assert on engine - finding value for poweer due to engine\n",
        "\n",
        "# split data \n",
        "X = filtered_data.iloc[:,:-1]  #iloc - get part of the columes (or rows)\n",
        "y = filtered_data[\"Price\"]"
      ],
      "execution_count": 19,
      "outputs": []
    },
    {
      "cell_type": "code",
      "metadata": {
        "id": "VH5yhS4vh6Jp"
      },
      "source": [
        "##########################################################################################\n",
        "def k_fold_validator(regressor, X_train_val, y_train_val, k):\n",
        "  return np.mean(cross_val_score(regressor, X_train_val, y_train_val, cv=k, n_jobs=-1, scoring='neg_mean_squared_error'))\n",
        "\n",
        "def ten_fold_validator(regressor, X_train_val, y_train_val):\n",
        "  return k_fold_validator(regressor, X_train_val, y_train_val, 10)\n",
        "\n",
        "def llo_validator(regressor, X_train_val, y_train_val):\n",
        "  return k_fold_validator(regressor, X_train_val, y_train_val, X_train_val.shape[0])\n",
        "\n",
        "def holdout_validator(regressor, X_train_val, y_train_val):\n",
        "  X_train, X_val, y_train, y_val = train_test_split(X, y, test_size=0.1, random_state=1)\n",
        "  regressor.fit(X_train, y_train)\n",
        "  return regressor.score(X_val, y_val)\n",
        "##########################################################################################\n",
        "\n",
        "def get_optimal_tree(X_train_val, X_test, y_train_val, y_test, validator_func):\n",
        "  best_hyp = None\n",
        "  best_score = None\n",
        "  optimal_tree = None\n",
        "  for max_depth in tqdm(range(5, 15)):\n",
        "   for min_samples_split in range(2, 10):\n",
        "    for min_samples_leaf in range(1, 5):\n",
        "     for criterion in ('mse', 'friedman_mse', 'mae'):\n",
        "       params = {'criterion': criterion, 'max_depth': max_depth, 'min_samples_leaf': min_samples_leaf, 'min_samples_split': min_samples_split}\n",
        "       tree = DecisionTreeRegressor(**params)\n",
        "       score = validator_func(tree, X_train_val, y_train_val)\n",
        "       if best_score is None or score > best_score:\n",
        "          best_hyp = params\n",
        "          best_score = score\n",
        "          optimal_tree = tree\n",
        "  optimal_tree.fit(X_train_val, y_train_val)\n",
        "  train_best_score =  optimal_tree.score(X_train_val, y_train_val)\n",
        "  print(f'Best score wrt. training: { train_best_score}')\n",
        "  best_score =  optimal_tree.score(X_test, y_test)\n",
        "  print(f'Best score wrt. test: {best_score}')\n",
        "  return optimal_tree, best_score, train_best_score, best_hyp\n",
        "  \n"
      ],
      "execution_count": 20,
      "outputs": []
    },
    {
      "cell_type": "code",
      "metadata": {
        "id": "u5TjyKRsyDsH",
        "colab": {
          "base_uri": "https://localhost:8080/"
        },
        "outputId": "a1767a1d-2c69-4307-e07a-adfc416aca3d"
      },
      "source": [
        "####################################################################################################################\n",
        "#model 1 - DecisionTreeRegressor:\n",
        "####################################################################################################################\n",
        "\n",
        "X_train_val, X_test, y_train_val, y_test = train_test_split(X, y, test_size=0.1, random_state=1)\n",
        "\n",
        "validator_names = [\"10 Fold\", \"Holdout\"]\n",
        "validators = [ten_fold_validator, holdout_validator]\n",
        "optimal_trees = []\n",
        "best_scores = []\n",
        "train_best_scores = []\n",
        "best_hyps = []\n",
        "\n",
        "for i in range(len(validators)):\n",
        "  print(f'Validating using {validator_names[i]}')\n",
        "  optimal_tree, best_score, train_best_score, best_hyp = get_optimal_tree(X_train_val, X_test, y_train_val, y_test, validators[i])\n",
        "  optimal_trees.append(optimal_tree)\n",
        "  best_scores.append(best_score)\n",
        "  train_best_scores.append(train_best_score)\n",
        "  best_hyps.append(best_hyp)\n",
        "\n",
        "best_score_index = np.argmax(best_scores)\n",
        "optimal_tree = optimal_trees[best_score_index]\n",
        "best_hyp = best_hyps[best_score_index]\n",
        "print(f'Best params: {best_hyp}')\n",
        "\n",
        "llo_score = llo_validator(DecisionTreeRegressor(**best_hyp), X_train_val, y_train_val)\n",
        "print(f'LLO score: {llo_score}')\n"
      ],
      "execution_count": 21,
      "outputs": [
        {
          "output_type": "stream",
          "text": [
            "\r  0%|          | 0/10 [00:00<?, ?it/s]"
          ],
          "name": "stderr"
        },
        {
          "output_type": "stream",
          "text": [
            "Validating using 10 Fold\n"
          ],
          "name": "stdout"
        },
        {
          "output_type": "stream",
          "text": [
            "100%|██████████| 10/10 [19:58<00:00, 119.87s/it]\n",
            "  0%|          | 0/10 [00:00<?, ?it/s]"
          ],
          "name": "stderr"
        },
        {
          "output_type": "stream",
          "text": [
            "Best score wrt. training: 0.9317938675565329\n",
            "Best score wrt. test: 0.8363563778879973\n",
            "Validating using Holdout\n"
          ],
          "name": "stdout"
        },
        {
          "output_type": "stream",
          "text": [
            "100%|██████████| 10/10 [03:01<00:00, 18.19s/it]\n"
          ],
          "name": "stderr"
        },
        {
          "output_type": "stream",
          "text": [
            "Best score wrt. training: 0.940730026956415\n",
            "Best score wrt. test: 0.8877858865515847\n",
            "Best params: {'criterion': 'friedman_mse', 'max_depth': 12, 'min_samples_leaf': 4, 'min_samples_split': 9}\n",
            "LLO score: -19.983759712107123\n"
          ],
          "name": "stdout"
        }
      ]
    },
    {
      "cell_type": "code",
      "metadata": {
        "id": "dx4u7vyYyzuf"
      },
      "source": [
        "import graphviz\n",
        "from IPython.display import SVG, display\n",
        "\n",
        "# first node corresponds to feature with highest correlation to price (the feature is: power)\n",
        "graph = graphviz.Source(export_graphviz(optimal_tree))\n",
        "display(SVG(graph.pipe(format='svg')))\n"
      ],
      "execution_count": null,
      "outputs": []
    },
    {
      "cell_type": "code",
      "metadata": {
        "id": "6w-JtuRZ9GQx"
      },
      "source": [
        "####################################################################################################################\n",
        "def get_optimal_ridge(X, y, validator_func):\n",
        "  X_train_val, X_test, y_train_val, y_test = train_test_split(X, y, test_size=0.1, random_state=1)\n",
        "  best_hyp = None\n",
        "  best_score = None\n",
        "  optimal_rid = None\n",
        "  for alpha in tqdm(range(1, 1000, 100)):\n",
        "       rid = Ridge(alpha=alpha/1000.0)\n",
        "       score = validator_func(rid, X_train_val, y_train_val)\n",
        "       if best_score is None or score > best_score:\n",
        "          best_hyp = alpha/1000.0\n",
        "          best_score = score\n",
        "          optimal_rid = rid\n",
        "  optimal_rid.fit(X_train_val, y_train_val)\n",
        "  train_best_score =  optimal_rid.score(X_train_val, y_train_val)\n",
        "  print(f'Best score wrt. training: {train_best_score}')\n",
        "  best_score =  optimal_rid.score(X_test, y_test)\n",
        "  print(f'Best score wrt. test: {best_score}')\n",
        "  return optimal_rid, best_score, train_best_score, best_hyp, y_test, X_test"
      ],
      "execution_count": 22,
      "outputs": []
    },
    {
      "cell_type": "code",
      "metadata": {
        "id": "J55ljaVwpVCM",
        "colab": {
          "base_uri": "https://localhost:8080/"
        },
        "outputId": "1e859aff-0e46-4186-d349-4e274c287270"
      },
      "source": [
        "####################################################################################################################\n",
        "#model 2 - Ridge:\n",
        "####################################################################################################################\n",
        "\n",
        "validator_names = [\"10 Fold\", \"LLO\", \"Holdout\"]\n",
        "validators = [ten_fold_validator, llo_validator, holdout_validator]\n",
        "optimal_ridges = []\n",
        "best_scores_r = []\n",
        "train_best_scores_r = []\n",
        "best_hyps = []\n",
        "for i in range(len(validators)):\n",
        "  print(f'Validating using {validator_names[i]}')\n",
        "  optimal_ridge, best_score, train_best_score, best_hyp_r, y_test_r, X_test_r = get_optimal_ridge(X, y, validators[i])\n",
        "  optimal_ridges.append(optimal_ridge)\n",
        "  best_scores_r.append(best_score)\n",
        "  train_best_scores_r.append(train_best_score)\n",
        "  best_hyps.append(best_hyp_r)\n",
        "\n",
        "best_score_index = np.argmax(best_scores_r)\n",
        "optimal_ridge = optimal_ridges[best_score_index]\n",
        "best_hyp = best_hyps[best_score_index]\n",
        "print(f'Best alpha: {best_hyp}')\n"
      ],
      "execution_count": 32,
      "outputs": [
        {
          "output_type": "stream",
          "text": [
            "\r  0%|          | 0/10 [00:00<?, ?it/s]"
          ],
          "name": "stderr"
        },
        {
          "output_type": "stream",
          "text": [
            "Validating using 10 Fold\n"
          ],
          "name": "stdout"
        },
        {
          "output_type": "stream",
          "text": [
            "100%|██████████| 10/10 [00:01<00:00,  7.19it/s]\n",
            "  0%|          | 0/10 [00:00<?, ?it/s]"
          ],
          "name": "stderr"
        },
        {
          "output_type": "stream",
          "text": [
            "Best score wrt. training: 0.694067870867426\n",
            "Best score wrt. test: 0.6744920390369478\n",
            "Validating using LLO\n"
          ],
          "name": "stdout"
        },
        {
          "output_type": "stream",
          "text": [
            "100%|██████████| 10/10 [02:07<00:00, 12.75s/it]\n",
            "100%|██████████| 10/10 [00:00<00:00, 207.69it/s]"
          ],
          "name": "stderr"
        },
        {
          "output_type": "stream",
          "text": [
            "Best score wrt. training: 0.694067870867426\n",
            "Best score wrt. test: 0.6744920390369478\n",
            "Validating using Holdout\n",
            "Best score wrt. training: 0.694067870867426\n",
            "Best score wrt. test: 0.6744920390369478\n",
            "Best alpha: 0.901\n"
          ],
          "name": "stdout"
        },
        {
          "output_type": "stream",
          "text": [
            "\n"
          ],
          "name": "stderr"
        }
      ]
    },
    {
      "cell_type": "code",
      "metadata": {
        "colab": {
          "base_uri": "https://localhost:8080/"
        },
        "id": "7pG-5cGbVNeg",
        "outputId": "48b8ce0e-7132-4a7f-8766-713d13dddcd4"
      },
      "source": [
        "####################################################################################################################\n",
        "# mse - models:\n",
        "####################################################################################################################\n",
        "\n",
        "from sklearn.metrics import mean_squared_error\n",
        "\n",
        "y_true = y_test\n",
        "y_pred = optimal_tree.predict(X_test)\n",
        "\n",
        "# compute mse manually\n",
        "errors = y_pred-y_test\n",
        "errors = [x**2 for x in errors]\n",
        "mse = np.mean(errors)\n",
        "print(mse)\n",
        "\n",
        "# compute mse automatically (with sklearn)\n",
        "mse = mean_squared_error(y_true, y_pred)\n",
        "print(mse)"
      ],
      "execution_count": 24,
      "outputs": [
        {
          "output_type": "stream",
          "text": [
            "13.754195435147157\n",
            "13.754195435147157\n"
          ],
          "name": "stdout"
        }
      ]
    },
    {
      "cell_type": "code",
      "metadata": {
        "colab": {
          "base_uri": "https://localhost:8080/"
        },
        "id": "l-UR8P2YDKdV",
        "outputId": "d167e1bf-2161-4ed1-afb0-037e6c9b43e9"
      },
      "source": [
        "from sklearn.metrics import mean_squared_error\n",
        "y_true_r = y_test_r\n",
        "y_pred_r = optimal_ridge.predict(X_test_r)\n",
        "\n",
        "mse_r = mean_squared_error(y_true_r , y_pred_r)\n",
        "print(mse_r)"
      ],
      "execution_count": 26,
      "outputs": [
        {
          "output_type": "stream",
          "text": [
            "39.89783435610521\n"
          ],
          "name": "stdout"
        }
      ]
    },
    {
      "cell_type": "code",
      "metadata": {
        "id": "PvIOJUKkLnES",
        "colab": {
          "base_uri": "https://localhost:8080/",
          "height": 239
        },
        "outputId": "41aa3484-9322-47a4-c147-d9593670cc29"
      },
      "source": [
        "####################################################################################################################\n",
        "# comparing models:\n",
        "####################################################################################################################\n",
        "from IPython.display import display, HTML\n",
        "\n",
        "print(\"Train results:\")\n",
        "df = pd.DataFrame({\"10-Fold\": [train_best_scores[0], train_best_scores_r[0]], \"LLO\": [None, train_best_scores_r[1]], \"Holdout\": [train_best_scores[1], train_best_scores_r[2]]}, index=['Decision Tree Regressor', 'Ridge'])\n",
        "display(HTML(df.to_html()))\n",
        "\n",
        "# The MSE is computed with respect to the optimal hyper-parameters on the test set\n",
        "print(\"Test results:\")\n",
        "df = pd.DataFrame({\"10-Fold\": [best_scores[0], best_scores_r[0]], \"LLO\": [None, best_scores_r[1]], \"Holdout\": [best_scores[1], best_scores_r[2]], \"MSE\": [mse, mse_r]}, index=['Decision Tree Regressor', 'Ridge'])\n",
        "display(HTML(df.to_html()))\n"
      ],
      "execution_count": 30,
      "outputs": [
        {
          "output_type": "stream",
          "text": [
            "Train results:\n"
          ],
          "name": "stdout"
        },
        {
          "output_type": "display_data",
          "data": {
            "text/html": [
              "<table border=\"1\" class=\"dataframe\">\n",
              "  <thead>\n",
              "    <tr style=\"text-align: right;\">\n",
              "      <th></th>\n",
              "      <th>10-Fold</th>\n",
              "      <th>LLO</th>\n",
              "      <th>Holdout</th>\n",
              "    </tr>\n",
              "  </thead>\n",
              "  <tbody>\n",
              "    <tr>\n",
              "      <th>Decision Tree Regressor</th>\n",
              "      <td>0.931794</td>\n",
              "      <td>NaN</td>\n",
              "      <td>0.940730</td>\n",
              "    </tr>\n",
              "    <tr>\n",
              "      <th>Ridge</th>\n",
              "      <td>0.694068</td>\n",
              "      <td>0.694068</td>\n",
              "      <td>0.694068</td>\n",
              "    </tr>\n",
              "  </tbody>\n",
              "</table>"
            ],
            "text/plain": [
              "<IPython.core.display.HTML object>"
            ]
          },
          "metadata": {
            "tags": []
          }
        },
        {
          "output_type": "stream",
          "text": [
            "Test results:\n"
          ],
          "name": "stdout"
        },
        {
          "output_type": "display_data",
          "data": {
            "text/html": [
              "<table border=\"1\" class=\"dataframe\">\n",
              "  <thead>\n",
              "    <tr style=\"text-align: right;\">\n",
              "      <th></th>\n",
              "      <th>10-Fold</th>\n",
              "      <th>LLO</th>\n",
              "      <th>Holdout</th>\n",
              "      <th>MSE</th>\n",
              "    </tr>\n",
              "  </thead>\n",
              "  <tbody>\n",
              "    <tr>\n",
              "      <th>Decision Tree Regressor</th>\n",
              "      <td>0.836356</td>\n",
              "      <td>NaN</td>\n",
              "      <td>0.887786</td>\n",
              "      <td>13.754195</td>\n",
              "    </tr>\n",
              "    <tr>\n",
              "      <th>Ridge</th>\n",
              "      <td>0.674492</td>\n",
              "      <td>0.674492</td>\n",
              "      <td>0.674492</td>\n",
              "      <td>39.897834</td>\n",
              "    </tr>\n",
              "  </tbody>\n",
              "</table>"
            ],
            "text/plain": [
              "<IPython.core.display.HTML object>"
            ]
          },
          "metadata": {
            "tags": []
          }
        }
      ]
    }
  ]
}