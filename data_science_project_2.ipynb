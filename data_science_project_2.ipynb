{
  "nbformat": 4,
  "nbformat_minor": 0,
  "metadata": {
    "colab": {
      "name": "data_science_project_2.ipynb",
      "provenance": [],
      "collapsed_sections": [],
      "authorship_tag": "ABX9TyMRzxaqQspKybj13aGh9vcR",
      "include_colab_link": true
    },
    "kernelspec": {
      "display_name": "Python 3",
      "name": "python3"
    },
    "language_info": {
      "name": "python"
    }
  },
  "cells": [
    {
      "cell_type": "markdown",
      "metadata": {
        "id": "view-in-github",
        "colab_type": "text"
      },
      "source": [
        "<a href=\"https://colab.research.google.com/github/shirart/data_science_proj_1/blob/main/data_science_project_2.ipynb\" target=\"_parent\"><img src=\"https://colab.research.google.com/assets/colab-badge.svg\" alt=\"Open In Colab\"/></a>"
      ]
    },
    {
      "cell_type": "code",
      "metadata": {
        "id": "Vebn9fUFx-Xm"
      },
      "source": [
        "import pandas as pd\n",
        "import numpy as np\n",
        "import seaborn as sns  #boxplot\n",
        "import matplotlib.pyplot as plt\n",
        "from sklearn import preprocessing\n",
        "\n",
        "data = pd.read_csv('sample_data/train-data.csv')\n",
        "filtered_data = data.drop(['New_Price','Unnamed: 0'] ,axis=1) # unnamed represents the index - unnecessary\n",
        "\n",
        "# remove units from data\n",
        "filtered_data['Mileage'] = filtered_data['Mileage'].str.strip('km/kgpl ')\n",
        "filtered_data['Engine'] = filtered_data['Engine'].str.strip('CC ')\n",
        "filtered_data['Power'] = filtered_data['Power'].str.strip('bhp ')\n",
        "\n",
        "# removed high kilometers_driven values as it exceeded the standard range (over 1 milion)\n",
        "filtered_data['Kilometers_Driven']=filtered_data['Kilometers_Driven'].where(filtered_data['Kilometers_Driven']<1*10**6)\n",
        "\n",
        "data"
      ],
      "execution_count": null,
      "outputs": []
    },
    {
      "cell_type": "code",
      "metadata": {
        "id": "TJ6pguWzgdjt"
      },
      "source": [
        "data.info()"
      ],
      "execution_count": null,
      "outputs": []
    },
    {
      "cell_type": "code",
      "metadata": {
        "id": "KawPRWEbb-0N"
      },
      "source": [
        "filtered_data"
      ],
      "execution_count": null,
      "outputs": []
    },
    {
      "cell_type": "code",
      "metadata": {
        "id": "eDpgwMEeHOUV"
      },
      "source": [
        "filtered_data.describe()"
      ],
      "execution_count": null,
      "outputs": []
    },
    {
      "cell_type": "code",
      "metadata": {
        "id": "x7M2vWbsph_M"
      },
      "source": [
        "filtered_data.describe(include=['O'])"
      ],
      "execution_count": null,
      "outputs": []
    },
    {
      "cell_type": "code",
      "metadata": {
        "id": "3eNnqmC-bwXz"
      },
      "source": [
        "filtered_data[\"Name\"].value_counts()\n"
      ],
      "execution_count": null,
      "outputs": []
    },
    {
      "cell_type": "code",
      "metadata": {
        "id": "FzeTprEvrTrY"
      },
      "source": [
        "import collections\n",
        "collections.Counter(list(filtered_data[\"Name\"].value_counts().to_numpy()))"
      ],
      "execution_count": null,
      "outputs": []
    },
    {
      "cell_type": "code",
      "metadata": {
        "id": "88_klpONcJ_E"
      },
      "source": [
        "filtered_data[\"Location\"].value_counts()"
      ],
      "execution_count": null,
      "outputs": []
    },
    {
      "cell_type": "code",
      "metadata": {
        "id": "CCzmJ1FNgRWC"
      },
      "source": [
        "filtered_data[\"Fuel_Type\"].value_counts()"
      ],
      "execution_count": null,
      "outputs": []
    },
    {
      "cell_type": "code",
      "metadata": {
        "id": "XQAomZUlCuBp"
      },
      "source": [
        "# adjust the information for creating models (strings to values)\n",
        "filtered_data= filtered_data.replace(\"null\", np.nan)\n",
        "filtered_data= filtered_data.replace(\"First\", 1)\n",
        "filtered_data= filtered_data.replace(\"Second\", 2)\n",
        "filtered_data= filtered_data.replace(\"Third\", 3)\n",
        "filtered_data= filtered_data.replace(\"Fourth & Above\", 4)\n",
        "filtered_data['Transmission'] = (filtered_data['Transmission'] == 'Manual').astype(float)\n",
        "\n",
        "filtered_data['Name'] = filtered_data['Name'].apply(lambda x: x.split(\" \")[0]) \n",
        "#print(filtered_data)\n",
        "\n",
        "# label (simple) encoding:\n",
        "le = preprocessing.LabelEncoder()\n",
        "filtered_data['Fuel_Type']= le.fit_transform(filtered_data['Fuel_Type'])\n",
        "filtered_data['Location']= le.fit_transform(filtered_data['Location'])\n",
        "filtered_data['Name']= le.fit_transform(filtered_data['Name'])\n",
        "\n",
        "\n",
        "filtered_data = filtered_data.astype(float)\n",
        "filtered_data.describe()"
      ],
      "execution_count": null,
      "outputs": []
    },
    {
      "cell_type": "code",
      "metadata": {
        "id": "_yzHtKjaDtvO"
      },
      "source": [
        "filtered_data.isnull().sum() #* 100 / len(filtered_data)"
      ],
      "execution_count": null,
      "outputs": []
    },
    {
      "cell_type": "code",
      "metadata": {
        "id": "KeLbwffZHKjv"
      },
      "source": [
        "####################################################################################################################\n",
        "# graphic presentation for each feature\n",
        "####################################################################################################################\n",
        "\n",
        "items=['Year', 'Kilometers_Driven', 'Mileage', 'Engine', 'Power', 'Seats', 'Transmission','Fuel_Type','Name','Owner_Type','Location','Price']\n",
        "fig, axes = plt.subplots(nrows=len(items), figsize=(15,50))\n",
        "ranges = [None, [filtered_data['Kilometers_Driven'].min(), filtered_data['Kilometers_Driven'].max()], None, [0,5000], None, [0, 9], None,None,None,None,None,[0,80]]\n",
        "for i in range(len(items)):\n",
        "  _ = axes[i].hist(filtered_data[items[i]], bins=50,range=ranges[i])\n",
        "  axes[i].set_title(items[i], fontsize=16)\n",
        "  \n",
        "plt.show()"
      ],
      "execution_count": null,
      "outputs": []
    },
    {
      "cell_type": "code",
      "metadata": {
        "id": "pChQuePCOt7r"
      },
      "source": [
        "items=['Year', 'Kilometers_Driven', 'Mileage', 'Engine', 'Power', 'Seats', 'Transmission','Fuel_Type','Name','Owner_Type','Location']\n",
        "fig, axes = plt.subplots(nrows=len(items), figsize=(10,30))\n",
        "ranges = [None, [filtered_data['Kilometers_Driven'].min(), filtered_data['Kilometers_Driven'].max()], None, None, None, [0, 9], None,None,None,None,None,None]\n",
        "for i in range(len(items)):\n",
        "  filtered_data.iloc[:,:-1].boxplot(column=[items[i]], ax=axes[i], fontsize = 16)\n",
        "\n",
        "plt.show()"
      ],
      "execution_count": null,
      "outputs": []
    },
    {
      "cell_type": "code",
      "metadata": {
        "id": "FEQ7xI41wJDt"
      },
      "source": [
        "corr_matrix = filtered_data.corr()\n",
        "fig, ax = plt.subplots(figsize=(9,8))\n",
        "sns.heatmap(corr_matrix, annot=True,ax=ax)\n",
        "plt.show()"
      ],
      "execution_count": null,
      "outputs": []
    },
    {
      "cell_type": "code",
      "metadata": {
        "id": "eZ428zUcMI5N"
      },
      "source": [
        "from sklearn.model_selection import train_test_split\n",
        "from sklearn.model_selection import KFold\n",
        "from sklearn.model_selection import cross_val_score\n",
        "from sklearn.model_selection import LeaveOneOut\n",
        "from sklearn.tree import DecisionTreeRegressor, export_graphviz, plot_tree\n",
        "from sklearn.linear_model import Ridge\n",
        "from sklearn.impute import SimpleImputer\n",
        "from tqdm import tqdm\n",
        "from scipy import stats\n",
        "\n",
        "####################################################################################################################\n",
        "#preparing data:\n",
        "####################################################################################################################\n",
        "\n",
        "# filter out NaN values - option 1\n",
        "filtered_data = filtered_data.dropna()"
      ],
      "execution_count": 13,
      "outputs": []
    },
    {
      "cell_type": "code",
      "metadata": {
        "id": "tu-sOlhZczlW"
      },
      "source": [
        "#fill nan's with SimpleImputer - option 2\n",
        "imp=SimpleImputer(missing_values=np.nan, strategy='mean')\n",
        "imp.fit(filtered_data.iloc[:,:-1])\n",
        "filtered_data = pd.DataFrame(imp.transform(filtered_data.iloc[:,:-1]))"
      ],
      "execution_count": 5,
      "outputs": []
    },
    {
      "cell_type": "code",
      "metadata": {
        "id": "vKxtUOo1RVP2"
      },
      "source": [
        "# fill nan's regarding to correlation - option 3 \n",
        "# filter out NaN values\n",
        "filtered_data = filtered_data.dropna(subset=['Kilometers_Driven','Mileage',\"Engine\", \"Seats\"])\n",
        "print(filtered_data.isnull().sum())\n",
        "nan_indices = pd.isnull(filtered_data).to_numpy().any(1).nonzero()[0]\n",
        "\n",
        "engine_values = []\n",
        "engine_to_power = {}\n",
        "\n",
        "# indices of power's nan values\n",
        "for i in nan_indices:\n",
        "  # finding engine values matching power nans\n",
        "  engine_values.append(filtered_data.iloc[i,:][\"Engine\"])\n",
        "\n",
        "for engine in set(engine_values):\n",
        "  # finding power values which aren't nans matching values in engine_values\n",
        "  engine_to_power[engine] = []\n",
        "  for j in range(len(filtered_data[\"Engine\"])):\n",
        "      if filtered_data.iloc[j,:][\"Engine\"] == engine and not np.isnan(filtered_data.iloc[j,:][\"Power\"]):\n",
        "        engine_to_power[engine].append(filtered_data.iloc[j,:][\"Power\"])\n",
        "  if not engine_to_power[engine]:\n",
        "    engine_to_power[engine] = np.nan\n",
        "  else:\n",
        "    engine_to_power[engine] = np.mean(engine_to_power[engine])\n",
        "\n",
        "# fill power with mean of known power values matching engine key (noticed that there are few values for the same key)\n",
        "for l in nan_indices:\n",
        "  engine = filtered_data.iloc[l,:][\"Engine\"]\n",
        "  # indicea of dataframe do not correspond to indices of Series (single column)\n",
        "  filtered_data.iloc[l,:][\"Power\"] = engine_to_power[engine]\n",
        "\n",
        "filtered_data = filtered_data.dropna()\n",
        "print(filtered_data.isnull().sum())"
      ],
      "execution_count": null,
      "outputs": []
    },
    {
      "cell_type": "code",
      "metadata": {
        "id": "fuJrSKE-RGDy"
      },
      "source": [
        "####################################################################################################################\n",
        "# split data:\n",
        "#################################################################################################################### \n",
        "X = filtered_data.iloc[:,:-1]  #iloc - get part of the columes (or rows)\n",
        "y = filtered_data[\"Price\"]"
      ],
      "execution_count": 14,
      "outputs": []
    },
    {
      "cell_type": "code",
      "metadata": {
        "id": "VH5yhS4vh6Jp"
      },
      "source": [
        "##########################################################################################\n",
        "def k_fold_validator(regressor, X_train_val, y_train_val, k):\n",
        "  return np.mean(cross_val_score(regressor, X_train_val, y_train_val, cv=k, n_jobs=-1, scoring='neg_mean_squared_error'))\n",
        "\n",
        "def ten_fold_validator(regressor, X_train_val, y_train_val):\n",
        "  return k_fold_validator(regressor, X_train_val, y_train_val, 10)\n",
        "\n",
        "def llo_validator(regressor, X_train_val, y_train_val):\n",
        "  return k_fold_validator(regressor, X_train_val, y_train_val, X_train_val.shape[0])\n",
        "\n",
        "def holdout_validator(regressor, X_train_val, y_train_val):\n",
        "  X_train, X_val, y_train, y_val = train_test_split(X, y, test_size=0.1, random_state=1)\n",
        "  regressor.fit(X_train, y_train)\n",
        "  return regressor.score(X_val, y_val)\n",
        "##########################################################################################\n",
        "\n",
        "def get_optimal_tree(X_train_val, X_test, y_train_val, y_test, validator_func):\n",
        "  best_hyp = None\n",
        "  best_score = None\n",
        "  optimal_tree = None\n",
        "  for max_depth in tqdm(range(5, 15)):\n",
        "   for min_samples_split in range(2, 10):\n",
        "    for min_samples_leaf in range(1, 5):\n",
        "     for criterion in ('mse', 'friedman_mse', 'mae'):\n",
        "       params = {'criterion': criterion, 'max_depth': max_depth, 'min_samples_leaf': min_samples_leaf, 'min_samples_split': min_samples_split}\n",
        "       tree = DecisionTreeRegressor(**params)\n",
        "       score = validator_func(tree, X_train_val, y_train_val)\n",
        "       if best_score is None or score > best_score:\n",
        "          best_hyp = params\n",
        "          best_score = score\n",
        "          optimal_tree = tree\n",
        "  optimal_tree.fit(X_train_val, y_train_val)\n",
        "  train_best_score =  optimal_tree.score(X_train_val, y_train_val)\n",
        "  print(f'Best score wrt. training: { train_best_score}')\n",
        "  best_score =  optimal_tree.score(X_test, y_test)\n",
        "  print(f'Best score wrt. test: {best_score}')\n",
        "  return optimal_tree, best_score, train_best_score, best_hyp\n",
        "  \n"
      ],
      "execution_count": 15,
      "outputs": []
    },
    {
      "cell_type": "code",
      "metadata": {
        "colab": {
          "base_uri": "https://localhost:8080/"
        },
        "id": "u5TjyKRsyDsH",
        "outputId": "522281e3-0a09-4de6-d3a0-69855d5c9467"
      },
      "source": [
        "####################################################################################################################\n",
        "#model 1 - DecisionTreeRegressor:\n",
        "####################################################################################################################\n",
        "\n",
        "X_train_val, X_test, y_train_val, y_test = train_test_split(X, y, test_size=0.1, random_state=1)\n",
        "\n",
        "validator_names = [\"10 Fold\", \"Holdout\"]\n",
        "validators = [ten_fold_validator, holdout_validator]\n",
        "optimal_trees = []\n",
        "best_scores = []\n",
        "train_best_scores = []\n",
        "best_hyps = []\n",
        "\n",
        "for i in range(len(validators)):\n",
        "  print(f'Validating using {validator_names[i]}')\n",
        "  optimal_tree, best_score, train_best_score, best_hyp = get_optimal_tree(X_train_val, X_test, y_train_val, y_test, validators[i])\n",
        "  optimal_trees.append(optimal_tree)\n",
        "  best_scores.append(best_score)\n",
        "  train_best_scores.append(train_best_score)\n",
        "  best_hyps.append(best_hyp)\n",
        "\n",
        "best_score_index = np.argmax(best_scores)\n",
        "optimal_tree = optimal_trees[best_score_index]\n",
        "best_hyp = best_hyps[best_score_index]\n",
        "print(f'Best params: {best_hyp}')\n",
        "\n",
        "llo_score = llo_validator(DecisionTreeRegressor(**best_hyp), X_train_val, y_train_val)\n",
        "print(f'LLO score: {llo_score}')\n"
      ],
      "execution_count": 16,
      "outputs": [
        {
          "output_type": "stream",
          "text": [
            "\r  0%|          | 0/10 [00:00<?, ?it/s]"
          ],
          "name": "stderr"
        },
        {
          "output_type": "stream",
          "text": [
            "Validating using 10 Fold\n"
          ],
          "name": "stdout"
        },
        {
          "output_type": "stream",
          "text": [
            "100%|██████████| 10/10 [33:43<00:00, 202.30s/it]\n",
            "  0%|          | 0/10 [00:00<?, ?it/s]"
          ],
          "name": "stderr"
        },
        {
          "output_type": "stream",
          "text": [
            "Best score wrt. training: 0.9092472296139016\n",
            "Best score wrt. test: 0.7873657138133241\n",
            "Validating using Holdout\n"
          ],
          "name": "stdout"
        },
        {
          "output_type": "stream",
          "text": [
            "100%|██████████| 10/10 [05:07<00:00, 30.70s/it]"
          ],
          "name": "stderr"
        },
        {
          "output_type": "stream",
          "text": [
            "Best score wrt. training: 0.9602598368844366\n",
            "Best score wrt. test: 0.876637067205146\n",
            "Best params: {'criterion': 'friedman_mse', 'max_depth': 12, 'min_samples_leaf': 2, 'min_samples_split': 8}\n"
          ],
          "name": "stdout"
        },
        {
          "output_type": "stream",
          "text": [
            "\n"
          ],
          "name": "stderr"
        },
        {
          "output_type": "stream",
          "text": [
            "LLO score: -23.59125112793383\n"
          ],
          "name": "stdout"
        }
      ]
    },
    {
      "cell_type": "code",
      "metadata": {
        "id": "dx4u7vyYyzuf"
      },
      "source": [
        "import graphviz\n",
        "from IPython.display import SVG, display\n",
        "\n",
        "# first node corresponds to feature with highest correlation to price (the feature is: power)\n",
        "graph = graphviz.Source(export_graphviz(optimal_tree))\n",
        "display(SVG(graph.pipe(format='svg')))\n"
      ],
      "execution_count": null,
      "outputs": []
    },
    {
      "cell_type": "code",
      "metadata": {
        "id": "6w-JtuRZ9GQx"
      },
      "source": [
        "####################################################################################################################\n",
        "def get_optimal_ridge(X, y, validator_func):\n",
        "  X_train_val, X_test, y_train_val, y_test = train_test_split(X, y, test_size=0.1, random_state=1)\n",
        "  best_hyp = None\n",
        "  best_score = None\n",
        "  optimal_rid = None\n",
        "  for alpha in tqdm(range(1, 1000, 100)):\n",
        "       rid = Ridge(alpha=alpha/1000.0)\n",
        "       score = validator_func(rid, X_train_val, y_train_val)\n",
        "       if best_score is None or score > best_score:\n",
        "          best_hyp = alpha/1000.0\n",
        "          best_score = score\n",
        "          optimal_rid = rid\n",
        "  optimal_rid.fit(X_train_val, y_train_val)\n",
        "  train_best_score =  optimal_rid.score(X_train_val, y_train_val)\n",
        "  print(f'Best score wrt. training: {train_best_score}')\n",
        "  best_score =  optimal_rid.score(X_test, y_test)\n",
        "  print(f'Best score wrt. test: {best_score}')\n",
        "  return optimal_rid, best_score, train_best_score, best_hyp, y_test, X_test"
      ],
      "execution_count": 17,
      "outputs": []
    },
    {
      "cell_type": "code",
      "metadata": {
        "id": "J55ljaVwpVCM",
        "colab": {
          "base_uri": "https://localhost:8080/"
        },
        "outputId": "ec1901eb-e8d3-4ee5-a54d-e37ab26b4d7f"
      },
      "source": [
        "####################################################################################################################\n",
        "#model 2 - Ridge:\n",
        "####################################################################################################################\n",
        "\n",
        "validator_names = [\"10 Fold\", \"LLO\", \"Holdout\"]\n",
        "validators = [ten_fold_validator, llo_validator, holdout_validator]\n",
        "optimal_ridges = []\n",
        "best_scores_r = []\n",
        "train_best_scores_r = []\n",
        "best_hyps = []\n",
        "for i in range(len(validators)):\n",
        "  print(f'Validating using {validator_names[i]}')\n",
        "  optimal_ridge, best_score, train_best_score, best_hyp_r, y_test_r, X_test_r = get_optimal_ridge(X, y, validators[i])\n",
        "  optimal_ridges.append(optimal_ridge)\n",
        "  best_scores_r.append(best_score)\n",
        "  train_best_scores_r.append(train_best_score)\n",
        "  best_hyps.append(best_hyp_r)\n",
        "\n",
        "best_score_index = np.argmax(best_scores_r)\n",
        "optimal_ridge = optimal_ridges[best_score_index]\n",
        "best_hyp = best_hyps[best_score_index]\n",
        "print(f'Best alpha: {best_hyp}')\n"
      ],
      "execution_count": 18,
      "outputs": [
        {
          "output_type": "stream",
          "text": [
            " 10%|█         | 1/10 [00:00<00:00,  9.69it/s]"
          ],
          "name": "stderr"
        },
        {
          "output_type": "stream",
          "text": [
            "Validating using 10 Fold\n"
          ],
          "name": "stdout"
        },
        {
          "output_type": "stream",
          "text": [
            "100%|██████████| 10/10 [00:00<00:00, 12.42it/s]\n",
            "  0%|          | 0/10 [00:00<?, ?it/s]"
          ],
          "name": "stderr"
        },
        {
          "output_type": "stream",
          "text": [
            "Best score wrt. training: 0.7060644607543024\n",
            "Best score wrt. test: 0.694945249787507\n",
            "Validating using LLO\n"
          ],
          "name": "stdout"
        },
        {
          "output_type": "stream",
          "text": [
            "100%|██████████| 10/10 [02:55<00:00, 17.54s/it]\n",
            "100%|██████████| 10/10 [00:00<00:00, 159.15it/s]"
          ],
          "name": "stderr"
        },
        {
          "output_type": "stream",
          "text": [
            "Best score wrt. training: 0.7060644607543024\n",
            "Best score wrt. test: 0.694945249787507\n",
            "Validating using Holdout\n",
            "Best score wrt. training: 0.7060644607543024\n",
            "Best score wrt. test: 0.694945249787507\n",
            "Best alpha: 0.901\n"
          ],
          "name": "stdout"
        },
        {
          "output_type": "stream",
          "text": [
            "\n"
          ],
          "name": "stderr"
        }
      ]
    },
    {
      "cell_type": "code",
      "metadata": {
        "id": "7pG-5cGbVNeg",
        "colab": {
          "base_uri": "https://localhost:8080/"
        },
        "outputId": "5830d3b5-e420-4a77-8065-d3a682c13b4d"
      },
      "source": [
        "####################################################################################################################\n",
        "# mse - models:\n",
        "####################################################################################################################\n",
        "\n",
        "from sklearn.metrics import mean_squared_error\n",
        "\n",
        "y_true = y_test\n",
        "y_pred = optimal_tree.predict(X_test)\n",
        "\n",
        "# compute mse manually\n",
        "errors = y_pred-y_test\n",
        "errors = [x**2 for x in errors]\n",
        "mse = np.mean(errors)\n",
        "print(mse)\n",
        "\n",
        "# compute mse automatically (with sklearn)\n",
        "mse = mean_squared_error(y_true, y_pred)\n",
        "print(mse)"
      ],
      "execution_count": 19,
      "outputs": [
        {
          "output_type": "stream",
          "text": [
            "15.120717305255404\n",
            "15.120717305255404\n"
          ],
          "name": "stdout"
        }
      ]
    },
    {
      "cell_type": "code",
      "metadata": {
        "id": "l-UR8P2YDKdV",
        "colab": {
          "base_uri": "https://localhost:8080/"
        },
        "outputId": "a29874c1-7b01-4814-fa69-cac6e523b2c7"
      },
      "source": [
        "from sklearn.metrics import mean_squared_error\n",
        "y_true_r = y_test_r\n",
        "y_pred_r = optimal_ridge.predict(X_test_r)\n",
        "\n",
        "mse_r = mean_squared_error(y_true_r , y_pred_r)\n",
        "print(mse_r)"
      ],
      "execution_count": 20,
      "outputs": [
        {
          "output_type": "stream",
          "text": [
            "37.39086398228707\n"
          ],
          "name": "stdout"
        }
      ]
    },
    {
      "cell_type": "code",
      "metadata": {
        "id": "PvIOJUKkLnES",
        "colab": {
          "base_uri": "https://localhost:8080/",
          "height": 234
        },
        "outputId": "7bff19ca-4808-4d73-8830-ea35623068db"
      },
      "source": [
        "####################################################################################################################\n",
        "# comparing models:\n",
        "####################################################################################################################\n",
        "from IPython.display import display, HTML\n",
        "\n",
        "print(\"Train results:\")\n",
        "df = pd.DataFrame({\"10-Fold\": [train_best_scores[0], train_best_scores_r[0]], \"LLO\": [None, train_best_scores_r[1]], \"Holdout\": [train_best_scores[1], train_best_scores_r[2]]}, index=['Decision Tree Regressor', 'Ridge'])\n",
        "display(HTML(df.to_html()))\n",
        "\n",
        "# The MSE is computed with respect to the optimal hyper-parameters on the test set\n",
        "print(\"Test results:\")\n",
        "df = pd.DataFrame({\"10-Fold\": [best_scores[0], best_scores_r[0]], \"LLO\": [None, best_scores_r[1]], \"Holdout\": [best_scores[1], best_scores_r[2]], \"MSE\": [mse, mse_r]}, index=['Decision Tree Regressor', 'Ridge'])\n",
        "display(HTML(df.to_html()))\n"
      ],
      "execution_count": 21,
      "outputs": [
        {
          "output_type": "stream",
          "text": [
            "Train results:\n"
          ],
          "name": "stdout"
        },
        {
          "output_type": "display_data",
          "data": {
            "text/html": [
              "<table border=\"1\" class=\"dataframe\">\n",
              "  <thead>\n",
              "    <tr style=\"text-align: right;\">\n",
              "      <th></th>\n",
              "      <th>10-Fold</th>\n",
              "      <th>LLO</th>\n",
              "      <th>Holdout</th>\n",
              "    </tr>\n",
              "  </thead>\n",
              "  <tbody>\n",
              "    <tr>\n",
              "      <th>Decision Tree Regressor</th>\n",
              "      <td>0.909247</td>\n",
              "      <td>NaN</td>\n",
              "      <td>0.960260</td>\n",
              "    </tr>\n",
              "    <tr>\n",
              "      <th>Ridge</th>\n",
              "      <td>0.706064</td>\n",
              "      <td>0.706064</td>\n",
              "      <td>0.706064</td>\n",
              "    </tr>\n",
              "  </tbody>\n",
              "</table>"
            ],
            "text/plain": [
              "<IPython.core.display.HTML object>"
            ]
          },
          "metadata": {
            "tags": []
          }
        },
        {
          "output_type": "stream",
          "text": [
            "Test results:\n"
          ],
          "name": "stdout"
        },
        {
          "output_type": "display_data",
          "data": {
            "text/html": [
              "<table border=\"1\" class=\"dataframe\">\n",
              "  <thead>\n",
              "    <tr style=\"text-align: right;\">\n",
              "      <th></th>\n",
              "      <th>10-Fold</th>\n",
              "      <th>LLO</th>\n",
              "      <th>Holdout</th>\n",
              "      <th>MSE</th>\n",
              "    </tr>\n",
              "  </thead>\n",
              "  <tbody>\n",
              "    <tr>\n",
              "      <th>Decision Tree Regressor</th>\n",
              "      <td>0.787366</td>\n",
              "      <td>NaN</td>\n",
              "      <td>0.876637</td>\n",
              "      <td>15.120717</td>\n",
              "    </tr>\n",
              "    <tr>\n",
              "      <th>Ridge</th>\n",
              "      <td>0.694945</td>\n",
              "      <td>0.694945</td>\n",
              "      <td>0.694945</td>\n",
              "      <td>37.390864</td>\n",
              "    </tr>\n",
              "  </tbody>\n",
              "</table>"
            ],
            "text/plain": [
              "<IPython.core.display.HTML object>"
            ]
          },
          "metadata": {
            "tags": []
          }
        }
      ]
    }
  ]
}